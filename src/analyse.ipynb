{
 "cells": [
  {
   "cell_type": "code",
   "execution_count": 52,
   "metadata": {},
   "outputs": [],
   "source": [
    "import pandas as pd\n",
    "import re\n",
    "import scipy.stats as stats\n",
    "import matplotlib.pyplot as plt\n",
    "import seaborn as sns"
   ]
  },
  {
   "cell_type": "code",
   "execution_count": 53,
   "metadata": {},
   "outputs": [],
   "source": [
    "\n",
    "data = pd.read_csv(r'C:\\Users\\Youcode\\Desktop\\avito_analyse\\data\\appartements_data.csv')"
   ]
  },
  {
   "cell_type": "code",
   "execution_count": 54,
   "metadata": {},
   "outputs": [
    {
     "name": "stdout",
     "output_type": "stream",
     "text": [
      "<class 'pandas.core.frame.DataFrame'>\n",
      "RangeIndex: 1063 entries, 0 to 1062\n",
      "Data columns (total 9 columns):\n",
      " #   Column         Non-Null Count  Dtype  \n",
      "---  ------         --------------  -----  \n",
      " 0   title          1062 non-null   object \n",
      " 1   price          930 non-null    object \n",
      " 2   location       1062 non-null   object \n",
      " 3   type_de_vente  386 non-null    object \n",
      " 4   salon          640 non-null    float64\n",
      " 5   chamber        339 non-null    float64\n",
      " 6   toilete        336 non-null    float64\n",
      " 7   area           693 non-null    float64\n",
      " 8   link           1063 non-null   object \n",
      "dtypes: float64(4), object(5)\n",
      "memory usage: 74.9+ KB\n"
     ]
    }
   ],
   "source": [
    "data.info()"
   ]
  },
  {
   "cell_type": "code",
   "execution_count": 55,
   "metadata": {},
   "outputs": [
    {
     "data": {
      "text/html": [
       "<div>\n",
       "<style scoped>\n",
       "    .dataframe tbody tr th:only-of-type {\n",
       "        vertical-align: middle;\n",
       "    }\n",
       "\n",
       "    .dataframe tbody tr th {\n",
       "        vertical-align: top;\n",
       "    }\n",
       "\n",
       "    .dataframe thead th {\n",
       "        text-align: right;\n",
       "    }\n",
       "</style>\n",
       "<table border=\"1\" class=\"dataframe\">\n",
       "  <thead>\n",
       "    <tr style=\"text-align: right;\">\n",
       "      <th></th>\n",
       "      <th>title</th>\n",
       "      <th>price</th>\n",
       "      <th>location</th>\n",
       "      <th>type_de_vente</th>\n",
       "      <th>salon</th>\n",
       "      <th>chamber</th>\n",
       "      <th>toilete</th>\n",
       "      <th>area</th>\n",
       "      <th>link</th>\n",
       "    </tr>\n",
       "  </thead>\n",
       "  <tbody>\n",
       "    <tr>\n",
       "      <th>0</th>\n",
       "      <td>Appartement location de vacances à Meknès</td>\n",
       "      <td>300 DH /Nuit</td>\n",
       "      <td>Meknès</td>\n",
       "      <td>NaN</td>\n",
       "      <td>NaN</td>\n",
       "      <td>NaN</td>\n",
       "      <td>NaN</td>\n",
       "      <td>NaN</td>\n",
       "      <td>https://www.avito.ma/fr/autre_secteur/location...</td>\n",
       "    </tr>\n",
       "    <tr>\n",
       "      <th>1</th>\n",
       "      <td>appartement à louer</td>\n",
       "      <td>2 400 DH</td>\n",
       "      <td>Casablanca</td>\n",
       "      <td>NaN</td>\n",
       "      <td>1.0</td>\n",
       "      <td>NaN</td>\n",
       "      <td>NaN</td>\n",
       "      <td>50.0</td>\n",
       "      <td>https://www.avito.ma/fr/al_qods/appartements/a...</td>\n",
       "    </tr>\n",
       "    <tr>\n",
       "      <th>2</th>\n",
       "      <td>Appartement beru à louer 150 m² à Temara</td>\n",
       "      <td>6 500 DH</td>\n",
       "      <td>Temara</td>\n",
       "      <td>NaN</td>\n",
       "      <td>1.0</td>\n",
       "      <td>NaN</td>\n",
       "      <td>NaN</td>\n",
       "      <td>150.0</td>\n",
       "      <td>https://www.avito.ma/fr/autre_secteur/appartem...</td>\n",
       "    </tr>\n",
       "    <tr>\n",
       "      <th>3</th>\n",
       "      <td>Appartement près a casanearshor sidi maarouf</td>\n",
       "      <td>3 000 DH</td>\n",
       "      <td>Casablanca</td>\n",
       "      <td>NaN</td>\n",
       "      <td>1.0</td>\n",
       "      <td>NaN</td>\n",
       "      <td>NaN</td>\n",
       "      <td>56.0</td>\n",
       "      <td>https://www.avito.ma/fr/sidi_maarouf/apparteme...</td>\n",
       "    </tr>\n",
       "  </tbody>\n",
       "</table>\n",
       "</div>"
      ],
      "text/plain": [
       "                                          title         price    location  \\\n",
       "0     Appartement location de vacances à Meknès  300 DH /Nuit      Meknès   \n",
       "1                           appartement à louer      2 400 DH  Casablanca   \n",
       "2      Appartement beru à louer 150 m² à Temara      6 500 DH      Temara   \n",
       "3  Appartement près a casanearshor sidi maarouf      3 000 DH  Casablanca   \n",
       "\n",
       "  type_de_vente  salon  chamber  toilete   area  \\\n",
       "0           NaN    NaN      NaN      NaN    NaN   \n",
       "1           NaN    1.0      NaN      NaN   50.0   \n",
       "2           NaN    1.0      NaN      NaN  150.0   \n",
       "3           NaN    1.0      NaN      NaN   56.0   \n",
       "\n",
       "                                                link  \n",
       "0  https://www.avito.ma/fr/autre_secteur/location...  \n",
       "1  https://www.avito.ma/fr/al_qods/appartements/a...  \n",
       "2  https://www.avito.ma/fr/autre_secteur/appartem...  \n",
       "3  https://www.avito.ma/fr/sidi_maarouf/apparteme...  "
      ]
     },
     "execution_count": 55,
     "metadata": {},
     "output_type": "execute_result"
    }
   ],
   "source": [
    "df = data.copy()\n",
    "df.head(4)"
   ]
  },
  {
   "cell_type": "code",
   "execution_count": 68,
   "metadata": {},
   "outputs": [],
   "source": [
    "import numpy as np\n",
    "def replace_nan_louer(x):\n",
    "    if pd.isna(x):\n",
    "        x='a louer'\n",
    "    return x\n"
   ]
  },
  {
   "cell_type": "code",
   "execution_count": 69,
   "metadata": {},
   "outputs": [],
   "source": [
    "df['type_de_vente'] = df['type_de_vente'].apply(replace_nan_louer)"
   ]
  },
  {
   "cell_type": "code",
   "execution_count": 70,
   "metadata": {},
   "outputs": [
    {
     "data": {
      "text/html": [
       "<div>\n",
       "<style scoped>\n",
       "    .dataframe tbody tr th:only-of-type {\n",
       "        vertical-align: middle;\n",
       "    }\n",
       "\n",
       "    .dataframe tbody tr th {\n",
       "        vertical-align: top;\n",
       "    }\n",
       "\n",
       "    .dataframe thead th {\n",
       "        text-align: right;\n",
       "    }\n",
       "</style>\n",
       "<table border=\"1\" class=\"dataframe\">\n",
       "  <thead>\n",
       "    <tr style=\"text-align: right;\">\n",
       "      <th></th>\n",
       "      <th>title</th>\n",
       "      <th>price</th>\n",
       "      <th>location</th>\n",
       "      <th>type_de_vente</th>\n",
       "      <th>salon</th>\n",
       "      <th>chamber</th>\n",
       "      <th>toilete</th>\n",
       "      <th>area</th>\n",
       "      <th>link</th>\n",
       "    </tr>\n",
       "  </thead>\n",
       "  <tbody>\n",
       "    <tr>\n",
       "      <th>0</th>\n",
       "      <td>Appartement location de vacances à Meknès</td>\n",
       "      <td>300 DH /Nuit</td>\n",
       "      <td>Meknès</td>\n",
       "      <td>a louer</td>\n",
       "      <td>NaN</td>\n",
       "      <td>NaN</td>\n",
       "      <td>NaN</td>\n",
       "      <td>NaN</td>\n",
       "      <td>https://www.avito.ma/fr/autre_secteur/location...</td>\n",
       "    </tr>\n",
       "    <tr>\n",
       "      <th>1</th>\n",
       "      <td>appartement à louer</td>\n",
       "      <td>2 400 DH</td>\n",
       "      <td>Casablanca</td>\n",
       "      <td>a louer</td>\n",
       "      <td>1.0</td>\n",
       "      <td>NaN</td>\n",
       "      <td>NaN</td>\n",
       "      <td>50.0</td>\n",
       "      <td>https://www.avito.ma/fr/al_qods/appartements/a...</td>\n",
       "    </tr>\n",
       "    <tr>\n",
       "      <th>2</th>\n",
       "      <td>Appartement beru à louer 150 m² à Temara</td>\n",
       "      <td>6 500 DH</td>\n",
       "      <td>Temara</td>\n",
       "      <td>a louer</td>\n",
       "      <td>1.0</td>\n",
       "      <td>NaN</td>\n",
       "      <td>NaN</td>\n",
       "      <td>150.0</td>\n",
       "      <td>https://www.avito.ma/fr/autre_secteur/appartem...</td>\n",
       "    </tr>\n",
       "    <tr>\n",
       "      <th>3</th>\n",
       "      <td>Appartement près a casanearshor sidi maarouf</td>\n",
       "      <td>3 000 DH</td>\n",
       "      <td>Casablanca</td>\n",
       "      <td>a louer</td>\n",
       "      <td>1.0</td>\n",
       "      <td>NaN</td>\n",
       "      <td>NaN</td>\n",
       "      <td>56.0</td>\n",
       "      <td>https://www.avito.ma/fr/sidi_maarouf/apparteme...</td>\n",
       "    </tr>\n",
       "    <tr>\n",
       "      <th>4</th>\n",
       "      <td>Appartement 84 m²Al Baraka à Dcheïra El Jihadia</td>\n",
       "      <td>701 720 DH</td>\n",
       "      <td>Dcheïra El Jihadia</td>\n",
       "      <td>Appartements, à vendre</td>\n",
       "      <td>1.0</td>\n",
       "      <td>3.0</td>\n",
       "      <td>2.0</td>\n",
       "      <td>84.0</td>\n",
       "      <td>https://www.avito.ma/fr/dche%C3%AFra_el_jihadi...</td>\n",
       "    </tr>\n",
       "  </tbody>\n",
       "</table>\n",
       "</div>"
      ],
      "text/plain": [
       "                                             title         price  \\\n",
       "0        Appartement location de vacances à Meknès  300 DH /Nuit   \n",
       "1                              appartement à louer      2 400 DH   \n",
       "2         Appartement beru à louer 150 m² à Temara      6 500 DH   \n",
       "3     Appartement près a casanearshor sidi maarouf      3 000 DH   \n",
       "4  Appartement 84 m²Al Baraka à Dcheïra El Jihadia    701 720 DH   \n",
       "\n",
       "             location           type_de_vente  salon  chamber  toilete   area  \\\n",
       "0              Meknès                 a louer    NaN      NaN      NaN    NaN   \n",
       "1          Casablanca                 a louer    1.0      NaN      NaN   50.0   \n",
       "2              Temara                 a louer    1.0      NaN      NaN  150.0   \n",
       "3          Casablanca                 a louer    1.0      NaN      NaN   56.0   \n",
       "4  Dcheïra El Jihadia  Appartements, à vendre    1.0      3.0      2.0   84.0   \n",
       "\n",
       "                                                link  \n",
       "0  https://www.avito.ma/fr/autre_secteur/location...  \n",
       "1  https://www.avito.ma/fr/al_qods/appartements/a...  \n",
       "2  https://www.avito.ma/fr/autre_secteur/appartem...  \n",
       "3  https://www.avito.ma/fr/sidi_maarouf/apparteme...  \n",
       "4  https://www.avito.ma/fr/dche%C3%AFra_el_jihadi...  "
      ]
     },
     "execution_count": 70,
     "metadata": {},
     "output_type": "execute_result"
    }
   ],
   "source": [
    "df.head()"
   ]
  },
  {
   "cell_type": "code",
   "execution_count": 71,
   "metadata": {},
   "outputs": [],
   "source": [
    "def changer_louer_vendre(x):\n",
    "    if x=='a louer':\n",
    "        return x\n",
    "    else:\n",
    "        return 'a vendre'"
   ]
  },
  {
   "cell_type": "code",
   "execution_count": 72,
   "metadata": {},
   "outputs": [],
   "source": [
    "df['type_de_vente'] = df['type_de_vente'].apply(changer_louer_vendre)"
   ]
  },
  {
   "cell_type": "code",
   "execution_count": 7,
   "metadata": {},
   "outputs": [
    {
     "data": {
      "text/html": [
       "<div>\n",
       "<style scoped>\n",
       "    .dataframe tbody tr th:only-of-type {\n",
       "        vertical-align: middle;\n",
       "    }\n",
       "\n",
       "    .dataframe tbody tr th {\n",
       "        vertical-align: top;\n",
       "    }\n",
       "\n",
       "    .dataframe thead th {\n",
       "        text-align: right;\n",
       "    }\n",
       "</style>\n",
       "<table border=\"1\" class=\"dataframe\">\n",
       "  <thead>\n",
       "    <tr style=\"text-align: right;\">\n",
       "      <th></th>\n",
       "      <th>salon</th>\n",
       "      <th>chamber</th>\n",
       "      <th>toilete</th>\n",
       "      <th>area</th>\n",
       "    </tr>\n",
       "  </thead>\n",
       "  <tbody>\n",
       "    <tr>\n",
       "      <th>count</th>\n",
       "      <td>640.000000</td>\n",
       "      <td>339.000000</td>\n",
       "      <td>336.000000</td>\n",
       "      <td>693.000000</td>\n",
       "    </tr>\n",
       "    <tr>\n",
       "      <th>mean</th>\n",
       "      <td>1.223437</td>\n",
       "      <td>2.368732</td>\n",
       "      <td>2.401786</td>\n",
       "      <td>97.308802</td>\n",
       "    </tr>\n",
       "    <tr>\n",
       "      <th>std</th>\n",
       "      <td>0.452862</td>\n",
       "      <td>0.668188</td>\n",
       "      <td>7.893840</td>\n",
       "      <td>40.543845</td>\n",
       "    </tr>\n",
       "    <tr>\n",
       "      <th>min</th>\n",
       "      <td>0.000000</td>\n",
       "      <td>1.000000</td>\n",
       "      <td>0.000000</td>\n",
       "      <td>1.000000</td>\n",
       "    </tr>\n",
       "    <tr>\n",
       "      <th>25%</th>\n",
       "      <td>1.000000</td>\n",
       "      <td>2.000000</td>\n",
       "      <td>1.000000</td>\n",
       "      <td>70.000000</td>\n",
       "    </tr>\n",
       "    <tr>\n",
       "      <th>50%</th>\n",
       "      <td>1.000000</td>\n",
       "      <td>2.000000</td>\n",
       "      <td>2.000000</td>\n",
       "      <td>90.000000</td>\n",
       "    </tr>\n",
       "    <tr>\n",
       "      <th>75%</th>\n",
       "      <td>1.000000</td>\n",
       "      <td>3.000000</td>\n",
       "      <td>2.000000</td>\n",
       "      <td>115.000000</td>\n",
       "    </tr>\n",
       "    <tr>\n",
       "      <th>max</th>\n",
       "      <td>3.000000</td>\n",
       "      <td>6.000000</td>\n",
       "      <td>100.000000</td>\n",
       "      <td>500.000000</td>\n",
       "    </tr>\n",
       "  </tbody>\n",
       "</table>\n",
       "</div>"
      ],
      "text/plain": [
       "            salon     chamber     toilete        area\n",
       "count  640.000000  339.000000  336.000000  693.000000\n",
       "mean     1.223437    2.368732    2.401786   97.308802\n",
       "std      0.452862    0.668188    7.893840   40.543845\n",
       "min      0.000000    1.000000    0.000000    1.000000\n",
       "25%      1.000000    2.000000    1.000000   70.000000\n",
       "50%      1.000000    2.000000    2.000000   90.000000\n",
       "75%      1.000000    3.000000    2.000000  115.000000\n",
       "max      3.000000    6.000000  100.000000  500.000000"
      ]
     },
     "execution_count": 7,
     "metadata": {},
     "output_type": "execute_result"
    }
   ],
   "source": [
    "df.describe()"
   ]
  },
  {
   "cell_type": "code",
   "execution_count": 74,
   "metadata": {},
   "outputs": [],
   "source": [
    "#convertir price en float apres la suppresion de DH\n",
    "\n",
    "df['new_price'] = df['price'].str.replace(\"DH\",\"\")\n"
   ]
  },
  {
   "cell_type": "code",
   "execution_count": 75,
   "metadata": {},
   "outputs": [],
   "source": [
    "df['new_price'] = df['new_price'].str.replace(\"/Nuit\",\"\")\n"
   ]
  },
  {
   "cell_type": "code",
   "execution_count": 76,
   "metadata": {},
   "outputs": [
    {
     "data": {
      "text/plain": [
       "array(['300 DH /Nuit', '2\\u202f400 DH', '6\\u202f500 DH', '3\\u202f000 DH',\n",
       "       '701\\u202f720 DH', '580\\u202f000 DH', '6\\u202f800 DH',\n",
       "       '760\\u202f000 DH', nan, '1\\u202f560\\u202f000 DH',\n",
       "       '1\\u202f100\\u202f000 DH', '1\\u202f300\\u202f000 DH',\n",
       "       '1\\u202f277\\u202f500 DH', '880\\u202f000 DH', '2\\u202f600 DH',\n",
       "       '4\\u202f500 DH', '3\\u202f900 DH', '562\\u202f500 DH',\n",
       "       '1\\u202f238\\u202f400 DH', '3\\u202f200 DH', '864\\u202f000 DH',\n",
       "       '860\\u202f000 DH', '1\\u202f400\\u202f000 DH', '10\\u202f500 DH',\n",
       "       '500 DH /Nuit', '8\\u202f000 DH', '4\\u202f200 DH', '470 DH /Nuit',\n",
       "       '9\\u202f500 DH', '250 DH /Nuit', '200 DH /Nuit', '15\\u202f500 DH',\n",
       "       '650\\u202f000 DH', '315 DH /Nuit', '1\\u202f650\\u202f000 DH',\n",
       "       '5\\u202f000 DH', '11\\u202f000 DH', '980\\u202f000 DH',\n",
       "       '5\\u202f500 DH', '370\\u202f000 DH', '2\\u202f300 DH',\n",
       "       '480\\u202f000 DH', '300 DH', '590 DH /Nuit', '12\\u202f000 DH',\n",
       "       '1\\u202f550\\u202f000 DH', '10\\u202f000 DH', '199 DH /Nuit',\n",
       "       '3\\u202f250 DH', '400\\u202f000 DH', '580 DH /Nuit',\n",
       "       '3\\u202f400\\u202f000 DH', '850\\u202f000 DH', '8\\u202f500 DH',\n",
       "       '1\\u202f160\\u202f000 DH', '2\\u202f800 DH', '3\\u202f000 DH /Nuit',\n",
       "       '1\\u202f700\\u202f000 DH', '4\\u202f000 DH', '7\\u202f200 DH',\n",
       "       '1\\u202f039\\u202f000 DH', '280\\u202f000 DH', '3\\u202f500 DH',\n",
       "       '7\\u202f270 DH', '850 DH /Nuit', '750\\u202f000 DH',\n",
       "       '2\\u202f700 DH', '900\\u202f000 DH', '7\\u202f000 DH',\n",
       "       '640\\u202f000 DH', '7\\u202f500 DH', '1\\u202f200\\u202f000 DH',\n",
       "       '350 DH /Nuit', '600\\u202f000 DH', '400 DH /Nuit',\n",
       "       '1\\u202f250\\u202f000 DH', '699 DH /Nuit', '599 DH /Nuit',\n",
       "       '2\\u202f160\\u202f000 DH', '1\\u202f170\\u202f000 DH',\n",
       "       '890\\u202f000 DH', '21\\u202f600\\u202f000 DH',\n",
       "       '2\\u202f600\\u202f000 DH', '3230 DH', '2\\u202f550 DH',\n",
       "       '2\\u202f500 DH', '450\\u202f000 DH', '380 DH /Nuit', '949 DH /Nuit',\n",
       "       '800 DH /Nuit', '840\\u202f000 DH', '380\\u202f000 DH',\n",
       "       '700\\u202f000 DH', '3\\u202f300\\u202f000 DH',\n",
       "       '1\\u202f450\\u202f000 DH', '565\\u202f000 DH', '9\\u202f000 DH',\n",
       "       '6\\u202f000 DH', '24\\u202f000 DH', '240\\u202f000 DH',\n",
       "       '190\\u202f000 DH', '1\\u202f350\\u202f000 DH', '420\\u202f000 DH',\n",
       "       '310\\u202f000 DH', '680\\u202f000 DH', '400 DH', '15\\u202f000 DH',\n",
       "       '1\\u202f400 DH', '540\\u202f000 DH', '12\\u202f500 DH',\n",
       "       '360 DH /Nuit', '170\\u202f000 DH', '1\\u202f000\\u202f000 DH',\n",
       "       '1\\u202f800\\u202f000 DH', '299 DH /Nuit', '1\\u202f320\\u202f000 DH',\n",
       "       '2\\u202f200\\u202f000 DH', '560\\u202f000 DH', '300\\u202f000 DH',\n",
       "       '2\\u202f220\\u202f000 DH', '595\\u202f000 DH',\n",
       "       '7\\u202f400\\u202f000 DH', '590\\u202f000 DH', '920\\u202f000 DH',\n",
       "       '350\\u202f000 DH', '3\\u202f220\\u202f000 DH',\n",
       "       '1\\u202f780\\u202f000 DH', '620\\u202f000 DH', '950\\u202f000 DH',\n",
       "       '1\\u202f368\\u202f000 DH', '820\\u202f000 DH',\n",
       "       '1\\u202f440\\u202f000 DH', '28\\u202f000\\u202f000 DH',\n",
       "       '1\\u202f044\\u202f000 DH', '3\\u202f900\\u202f000 DH',\n",
       "       '430\\u202f000 DH', '1\\u202f600 DH /Nuit', '945\\u202f000 DH',\n",
       "       '2\\u202f800\\u202f000 DH', '2\\u202f200 DH',\n",
       "       '1\\u202f600\\u202f000 DH', '1\\u202f310\\u202f000 DH',\n",
       "       '3\\u202f400 DH', '320\\u202f000 DH', '2\\u202f275\\u202f000 DH',\n",
       "       '170 DH /Nuit', '3\\u202f800\\u202f000 DH', '6\\u202f200 DH',\n",
       "       '570\\u202f000 DH', '450 DH /Nuit', '399 DH /Nuit',\n",
       "       '688\\u202f000 DH', '690\\u202f000 DH', '1\\u202f750\\u202f000 DH',\n",
       "       '720 DH /Nuit', '795\\u202f000 DH', '967\\u202f200 DH',\n",
       "       '17\\u202f500 DH', '3\\u202f300 DH', '800\\u202f000 DH',\n",
       "       '430 DH /Nuit', '3\\u202f200\\u202f000 DH', '540 DH /Nuit',\n",
       "       '499 DH /Nuit', '1\\u202f240\\u202f000 DH', '1\\u202f050\\u202f000 DH',\n",
       "       '1\\u202f390\\u202f000 DH', '630 DH /Nuit', '11\\u202f500 DH',\n",
       "       '592\\u202f000 DH', '2\\u202f000 DH', '1\\u202f500\\u202f000 DH',\n",
       "       '500\\u202f000 DH', '225 DH /Nuit', '3\\u202f500\\u202f000 DH',\n",
       "       '630\\u202f000 DH', '977\\u202f000 DH', '3\\u202f600 DH',\n",
       "       '600 DH /Nuit', '740\\u202f000 DH', '285\\u202f000 DH',\n",
       "       '2\\u202f850\\u202f000 DH', '950 DH /Nuit', '2\\u202f650\\u202f000 DH',\n",
       "       '6\\u202f300 DH', '180 DH /Nuit', '780\\u202f000 DH',\n",
       "       '2\\u202f300 DH /Nuit', '660\\u202f000 DH', '389 DH /Nuit',\n",
       "       '7\\u202f700 DH', '2\\u202f400\\u202f000 DH', '10\\u202f350 DH',\n",
       "       '2\\u202f240\\u202f000 DH', '270\\u202f000 DH', '390\\u202f000 DH',\n",
       "       '1\\u202f060\\u202f000 DH', '570 DH /Nuit', '2\\u202f000 DH /Nuit',\n",
       "       '490\\u202f000 DH', '350 DH', '1\\u202f500 DH', '5\\u202f800 DH',\n",
       "       '550\\u202f000 DH', '249 DH /Nuit', '2\\u202f050\\u202f000 DH',\n",
       "       '866\\u202f000 DH', '21\\u202f000 DH', '4\\u202f400 DH',\n",
       "       '530\\u202f000 DH', '2\\u202f250\\u202f000 DH',\n",
       "       '3\\u202f000\\u202f000 DH', '1\\u202f328\\u202f000 DH',\n",
       "       '1\\u202f120\\u202f000 DH', '550 DH /Nuit', '13\\u202f000 DH',\n",
       "       '1\\u202f900\\u202f000 DH', '3\\u202f800 DH', '25\\u202f000 DH',\n",
       "       '599 DH', '5\\u202f700 DH', '4\\u202f700 DH', '1\\u202f100 DH /Nuit',\n",
       "       '5\\u202f200\\u202f000 DH', '520 DH /Nuit', '4\\u202f100\\u202f000 DH',\n",
       "       '23\\u202f500 DH', '150 DH /Nuit', '1\\u202f760\\u202f000 DH',\n",
       "       '460\\u202f000 DH', '6\\u202f500\\u202f000 DH',\n",
       "       '2\\u202f100\\u202f000 DH', '440\\u202f000 DH', '20\\u202f000 DH',\n",
       "       '700 DH /Nuit', '23\\u202f000 DH', '973\\u202f000 DH',\n",
       "       '1\\u202f080\\u202f000 DH', '449 DH /Nuit', '2660 DH',\n",
       "       '990\\u202f000 DH', '560 DH /Nuit', '5\\u202f300 DH',\n",
       "       '1\\u202f150\\u202f000 DH', '265 DH', '1\\u202f800 DH',\n",
       "       '17\\u202f000 DH', '2375 DH', '1\\u202f180\\u202f000 DH',\n",
       "       '4\\u202f500\\u202f000 DH', '8\\u202f300 DH',\n",
       "       '3\\u202f700\\u202f000 DH', '1\\u202f230\\u202f000 DH',\n",
       "       '1\\u202f647\\u202f000 DH', '6\\u202f000\\u202f000 DH',\n",
       "       '1\\u202f660\\u202f000 DH', '248 DH /Nuit', '1\\u202f350 DH /Nuit',\n",
       "       '390 DH /Nuit', '4\\u202f800 DH', '1\\u202f480\\u202f000 DH',\n",
       "       '1\\u202f190\\u202f000 DH', '600 DH', '1\\u202f090\\u202f000 DH',\n",
       "       '220 DH /Nuit', '1\\u202f360\\u202f000 DH', '1\\u202f500 DH /Nuit',\n",
       "       '230 DH /Nuit', '752\\u202f400 DH', '3\\u202f700 DH',\n",
       "       '930\\u202f000 DH', '19\\u202f000 DH', '360\\u202f000 DH',\n",
       "       '720\\u202f000 DH', '2\\u202f900\\u202f000 DH',\n",
       "       '4\\u202f800\\u202f000 DH', '1\\u202f540\\u202f000 DH',\n",
       "       '18\\u202f000 DH', '1\\u202f200 DH /Nuit', '1\\u202f000 DH /Nuit',\n",
       "       '7\\u202f800 DH', '940\\u202f000 DH', '4\\u202f300 DH',\n",
       "       '16\\u202f000 DH', '1\\u202f030\\u202f000 DH', '665\\u202f000 DH',\n",
       "       '1\\u202f130\\u202f000 DH', '6\\u202f700 DH', '815\\u202f000 DH',\n",
       "       '2\\u202f250 DH', '900 DH /Nuit', '500 DH', '14\\u202f000 DH',\n",
       "       '4\\u202f900 DH', '1\\u202f270\\u202f000 DH', '713\\u202f800 DH',\n",
       "       '1\\u202f850\\u202f000 DH'], dtype=object)"
      ]
     },
     "execution_count": 76,
     "metadata": {},
     "output_type": "execute_result"
    }
   ],
   "source": [
    "df['price'].unique()"
   ]
  },
  {
   "cell_type": "code",
   "execution_count": 77,
   "metadata": {},
   "outputs": [],
   "source": [
    "def nettoyer_prix(prix):\n",
    "    if isinstance(prix, str):  \n",
    "        \n",
    "        prix = prix.replace('\\u202f', '').replace(' ', '')\n",
    "        return float(prix) if prix else None \n",
    "    return None  \n",
    "\n",
    "# Appliquer la fonction à la colonne "
   ]
  },
  {
   "cell_type": "code",
   "execution_count": 78,
   "metadata": {},
   "outputs": [],
   "source": [
    "df['new_price'] = df['new_price'].apply(nettoyer_prix)"
   ]
  },
  {
   "cell_type": "code",
   "execution_count": 79,
   "metadata": {},
   "outputs": [
    {
     "data": {
      "text/plain": [
       "133"
      ]
     },
     "execution_count": 79,
     "metadata": {},
     "output_type": "execute_result"
    }
   ],
   "source": [
    "df['new_price'].isna().sum()"
   ]
  },
  {
   "cell_type": "code",
   "execution_count": 80,
   "metadata": {},
   "outputs": [
    {
     "data": {
      "text/plain": [
       "Index(['title', 'price', 'location', 'type_de_vente', 'salon', 'chamber',\n",
       "       'toilete', 'area', 'link', 'new_price'],\n",
       "      dtype='object')"
      ]
     },
     "execution_count": 80,
     "metadata": {},
     "output_type": "execute_result"
    }
   ],
   "source": [
    "df.columns"
   ]
  },
  {
   "cell_type": "code",
   "execution_count": 81,
   "metadata": {},
   "outputs": [
    {
     "data": {
      "text/plain": [
       "array(['Meknès', 'Casablanca', 'Temara', 'Dcheïra El Jihadia',\n",
       "       'Mohammedia', 'Agadir', 'الدار البيضاء', 'Béni Yakhlef',\n",
       "       'El Jadida', 'Dakhla', 'Rabat', 'Marrakech', 'Tanger', 'مراكش',\n",
       "       'Kénitra', 'فاس', 'Fès', 'Bouskoura', 'Essaouira', 'Settat',\n",
       "       'Mehdia', 'Dar Bouazza', 'Martil', 'Nouaceur', 'Inzegan', 'Asilah',\n",
       "       'Had Soualem', 'Oujda', 'Saidia', 'تمارة', 'Nador', 'Benslimane',\n",
       "       'Salé', 'Sidi Bouknadel', 'Ait Melloul', 'Tamesna', 'Taza',\n",
       "       'القنيطرة', 'Tétouan', 'Tamaris', 'Selouane', 'Bouznika', 'أكادير',\n",
       "       'El Mansouria', 'Skhirat', 'Béni Mellal', 'Cabo Negro', 'Ifrane',\n",
       "       'Errahma', 'Taghazout', 'Safi', 'Al Hoceima', 'Errachidia',\n",
       "       'Zenata', 'Ben Guerir', 'Sidi Rahal', 'Mediouna', nan,\n",
       "       'Chefchaouen', 'Merzouga', 'Mdiq'], dtype=object)"
      ]
     },
     "execution_count": 81,
     "metadata": {},
     "output_type": "execute_result"
    }
   ],
   "source": [
    "df['location'].unique()"
   ]
  },
  {
   "cell_type": "code",
   "execution_count": 82,
   "metadata": {},
   "outputs": [],
   "source": [
    "mapping_villes = {\n",
    "    \"الدار البيضاء\": \"Casablanca\",\n",
    "    \"مراكش\": \"Marrakech\",\n",
    "    \"فاس\": \"Fès\",\n",
    "    \"تمارة\": \"Temara\",\n",
    "    \"أكادير\": \"Agadir\",\n",
    "    \"القنيطرة\": \"Kénitra\",\n",
    "    \n",
    "}"
   ]
  },
  {
   "cell_type": "code",
   "execution_count": 83,
   "metadata": {},
   "outputs": [],
   "source": [
    "def changer_nom_ville(ville):\n",
    "    return mapping_villes.get(ville,ville)\n",
    "\n",
    "df['location'] = df['location'].apply(changer_nom_ville)"
   ]
  },
  {
   "cell_type": "code",
   "execution_count": 84,
   "metadata": {},
   "outputs": [
    {
     "data": {
      "text/plain": [
       "array(['Meknès', 'Casablanca', 'Temara', 'Dcheïra El Jihadia',\n",
       "       'Mohammedia', 'Agadir', 'Béni Yakhlef', 'El Jadida', 'Dakhla',\n",
       "       'Rabat', 'Marrakech', 'Tanger', 'Kénitra', 'Fès', 'Bouskoura',\n",
       "       'Essaouira', 'Settat', 'Mehdia', 'Dar Bouazza', 'Martil',\n",
       "       'Nouaceur', 'Inzegan', 'Asilah', 'Had Soualem', 'Oujda', 'Saidia',\n",
       "       'Nador', 'Benslimane', 'Salé', 'Sidi Bouknadel', 'Ait Melloul',\n",
       "       'Tamesna', 'Taza', 'Tétouan', 'Tamaris', 'Selouane', 'Bouznika',\n",
       "       'El Mansouria', 'Skhirat', 'Béni Mellal', 'Cabo Negro', 'Ifrane',\n",
       "       'Errahma', 'Taghazout', 'Safi', 'Al Hoceima', 'Errachidia',\n",
       "       'Zenata', 'Ben Guerir', 'Sidi Rahal', 'Mediouna', nan,\n",
       "       'Chefchaouen', 'Merzouga', 'Mdiq'], dtype=object)"
      ]
     },
     "execution_count": 84,
     "metadata": {},
     "output_type": "execute_result"
    }
   ],
   "source": [
    "df['location'].unique()"
   ]
  },
  {
   "cell_type": "code",
   "execution_count": 85,
   "metadata": {},
   "outputs": [
    {
     "data": {
      "text/plain": [
       "location\n",
       "Casablanca            311\n",
       "Marrakech             112\n",
       "Tanger                 94\n",
       "Rabat                  93\n",
       "Agadir                 91\n",
       "Temara                 50\n",
       "Fès                    42\n",
       "El Jadida              30\n",
       "Kénitra                30\n",
       "Mohammedia             28\n",
       "Martil                 22\n",
       "Salé                   17\n",
       "Bouskoura              14\n",
       "Meknès                 13\n",
       "Bouznika               12\n",
       "Essaouira              11\n",
       "El Mansouria            7\n",
       "Oujda                   7\n",
       "Dar Bouazza             6\n",
       "Taghazout               6\n",
       "Had Soualem             6\n",
       "Saidia                  5\n",
       "Tétouan                 4\n",
       "Asilah                  4\n",
       "Nador                   4\n",
       "Al Hoceima              3\n",
       "Taza                    3\n",
       "Ifrane                  3\n",
       "Béni Yakhlef            3\n",
       "Ait Melloul             2\n",
       "Errachidia              2\n",
       "Nouaceur                2\n",
       "Sidi Rahal              2\n",
       "Tamaris                 2\n",
       "Skhirat                 2\n",
       "Errahma                 1\n",
       "Zenata                  1\n",
       "Mediouna                1\n",
       "Chefchaouen             1\n",
       "Safi                    1\n",
       "Merzouga                1\n",
       "Ben Guerir              1\n",
       "Benslimane              1\n",
       "Cabo Negro              1\n",
       "Béni Mellal             1\n",
       "Selouane                1\n",
       "Tamesna                 1\n",
       "Sidi Bouknadel          1\n",
       "Inzegan                 1\n",
       "Mehdia                  1\n",
       "Settat                  1\n",
       "Dakhla                  1\n",
       "Dcheïra El Jihadia      1\n",
       "Mdiq                    1\n",
       "Name: count, dtype: int64"
      ]
     },
     "execution_count": 85,
     "metadata": {},
     "output_type": "execute_result"
    }
   ],
   "source": [
    "#nombre total des villes \n",
    "df['location'].value_counts()"
   ]
  },
  {
   "cell_type": "code",
   "execution_count": 86,
   "metadata": {},
   "outputs": [
    {
     "data": {
      "text/plain": [
       "370"
      ]
     },
     "execution_count": 86,
     "metadata": {},
     "output_type": "execute_result"
    }
   ],
   "source": [
    "df['area'].isna().sum()"
   ]
  },
  {
   "cell_type": "code",
   "execution_count": 87,
   "metadata": {},
   "outputs": [
    {
     "data": {
      "text/html": [
       "<div>\n",
       "<style scoped>\n",
       "    .dataframe tbody tr th:only-of-type {\n",
       "        vertical-align: middle;\n",
       "    }\n",
       "\n",
       "    .dataframe tbody tr th {\n",
       "        vertical-align: top;\n",
       "    }\n",
       "\n",
       "    .dataframe thead th {\n",
       "        text-align: right;\n",
       "    }\n",
       "</style>\n",
       "<table border=\"1\" class=\"dataframe\">\n",
       "  <thead>\n",
       "    <tr style=\"text-align: right;\">\n",
       "      <th></th>\n",
       "      <th>count</th>\n",
       "      <th>mean</th>\n",
       "      <th>std</th>\n",
       "      <th>min</th>\n",
       "      <th>25%</th>\n",
       "      <th>50%</th>\n",
       "      <th>75%</th>\n",
       "      <th>max</th>\n",
       "    </tr>\n",
       "  </thead>\n",
       "  <tbody>\n",
       "    <tr>\n",
       "      <th>salon</th>\n",
       "      <td>640.0</td>\n",
       "      <td>1.223437</td>\n",
       "      <td>4.528616e-01</td>\n",
       "      <td>0.0</td>\n",
       "      <td>1.0</td>\n",
       "      <td>1.0</td>\n",
       "      <td>1.0</td>\n",
       "      <td>3.0</td>\n",
       "    </tr>\n",
       "    <tr>\n",
       "      <th>chamber</th>\n",
       "      <td>339.0</td>\n",
       "      <td>2.368732</td>\n",
       "      <td>6.681879e-01</td>\n",
       "      <td>1.0</td>\n",
       "      <td>2.0</td>\n",
       "      <td>2.0</td>\n",
       "      <td>3.0</td>\n",
       "      <td>6.0</td>\n",
       "    </tr>\n",
       "    <tr>\n",
       "      <th>toilete</th>\n",
       "      <td>336.0</td>\n",
       "      <td>2.401786</td>\n",
       "      <td>7.893840e+00</td>\n",
       "      <td>0.0</td>\n",
       "      <td>1.0</td>\n",
       "      <td>2.0</td>\n",
       "      <td>2.0</td>\n",
       "      <td>100.0</td>\n",
       "    </tr>\n",
       "    <tr>\n",
       "      <th>area</th>\n",
       "      <td>693.0</td>\n",
       "      <td>97.308802</td>\n",
       "      <td>4.054384e+01</td>\n",
       "      <td>1.0</td>\n",
       "      <td>70.0</td>\n",
       "      <td>90.0</td>\n",
       "      <td>115.0</td>\n",
       "      <td>500.0</td>\n",
       "    </tr>\n",
       "    <tr>\n",
       "      <th>new_price</th>\n",
       "      <td>930.0</td>\n",
       "      <td>490812.322581</td>\n",
       "      <td>1.399311e+06</td>\n",
       "      <td>150.0</td>\n",
       "      <td>500.0</td>\n",
       "      <td>7000.0</td>\n",
       "      <td>700000.0</td>\n",
       "      <td>28000000.0</td>\n",
       "    </tr>\n",
       "  </tbody>\n",
       "</table>\n",
       "</div>"
      ],
      "text/plain": [
       "           count           mean           std    min    25%     50%       75%  \\\n",
       "salon      640.0       1.223437  4.528616e-01    0.0    1.0     1.0       1.0   \n",
       "chamber    339.0       2.368732  6.681879e-01    1.0    2.0     2.0       3.0   \n",
       "toilete    336.0       2.401786  7.893840e+00    0.0    1.0     2.0       2.0   \n",
       "area       693.0      97.308802  4.054384e+01    1.0   70.0    90.0     115.0   \n",
       "new_price  930.0  490812.322581  1.399311e+06  150.0  500.0  7000.0  700000.0   \n",
       "\n",
       "                  max  \n",
       "salon             3.0  \n",
       "chamber           6.0  \n",
       "toilete         100.0  \n",
       "area            500.0  \n",
       "new_price  28000000.0  "
      ]
     },
     "execution_count": 87,
     "metadata": {},
     "output_type": "execute_result"
    }
   ],
   "source": [
    "df.describe().T"
   ]
  },
  {
   "cell_type": "code",
   "execution_count": 88,
   "metadata": {},
   "outputs": [],
   "source": [
    "df_louer = df[df['type_de_vente']=='a louer']\n",
    "df_vendre = df[df['type_de_vente']=='a vendre']"
   ]
  },
  {
   "cell_type": "code",
   "execution_count": 92,
   "metadata": {},
   "outputs": [
    {
     "name": "stdout",
     "output_type": "stream",
     "text": [
      "(677, 10)\n",
      "(386, 10)\n"
     ]
    }
   ],
   "source": [
    "print(df_louer.shape)\n",
    "print(df_vendre.shape)"
   ]
  },
  {
   "cell_type": "code",
   "execution_count": 93,
   "metadata": {},
   "outputs": [],
   "source": [
    "def analyse_statistique_et_asymetire(dataframe,colone):\n",
    "    mean = dataframe[colone].mean()\n",
    "    median = dataframe[colone].median()\n",
    "    std_dev = dataframe[colone].std()\n",
    "\n",
    "\n",
    "    print(f'statistiques descriptive pour la colone {colone} est')\n",
    "    print(mean)\n",
    "    print(median)\n",
    "    print(std_dev)\n",
    "\n",
    "    difference = abs(mean - median)\n",
    "    print(f'la difference absolue entre la moyenne et la median : {difference}')\n",
    "\n",
    "    if difference> std_dev*0.5:\n",
    "        print('distribution potentiellement asymetrique (différence significative)')\n",
    "    else:\n",
    "        print('distribution probablement symetrique (difference faible)')\n",
    "\n",
    "    plt.figure(figsize=(10,6))\n",
    "    sns.histplot(dataframe[colone],kde=True,color='skyblue',bins=30)\n",
    "    plt.axvline(mean,color='red',label=f'moyenne({mean})')\n",
    "    plt.axvline(median,color='green',label=f'mediane({median})')\n",
    "    plt.title(f\"distribution de {colone}\")\n",
    "    plt.xlabel(colone)\n",
    "    plt.ylabel('frequence')\n",
    "    plt.legend()\n",
    "    plt.show()\n",
    "\n",
    "\n"
   ]
  },
  {
   "cell_type": "code",
   "execution_count": 94,
   "metadata": {},
   "outputs": [
    {
     "name": "stdout",
     "output_type": "stream",
     "text": [
      "statistiques descriptive pour la colone salon est\n",
      "1.2269736842105263\n",
      "1.0\n",
      "0.4643701713836386\n",
      "la difference absolue entre la moyenne et la median : 0.22697368421052633\n",
      "distribution probablement symetrique (difference faible)\n"
     ]
    },
    {
     "data": {
      "image/png": "[encoded data removed]",
      "text/plain": [
       "<Figure size 1000x600 with 1 Axes>"
      ]
     },
     "metadata": {},
     "output_type": "display_data"
    }
   ],
   "source": [
    "analyse_statistique_et_asymetire(df_louer,'salon')"
   ]
  },
  {
   "cell_type": "code",
   "execution_count": 50,
   "metadata": {},
   "outputs": [
    {
     "data": {
      "text/plain": [
       "Index(['title', 'price', 'location', 'type_de_vente', 'salon', 'chamber',\n",
       "       'toilete', 'area', 'link', 'new_price'],\n",
       "      dtype='object')"
      ]
     },
     "execution_count": 50,
     "metadata": {},
     "output_type": "execute_result"
    }
   ],
   "source": [
    "df.columns"
   ]
  },
  {
   "cell_type": "code",
   "execution_count": 95,
   "metadata": {},
   "outputs": [
    {
     "name": "stdout",
     "output_type": "stream",
     "text": [
      "statistiques descriptive pour la colone area est\n",
      "100.61488673139158\n",
      "90.0\n",
      "45.639580805560186\n",
      "la difference absolue entre la moyenne et la median : 10.614886731391579\n",
      "distribution probablement symetrique (difference faible)\n"
     ]
    },
    {
     "data": {
      "image/png": "[encoded data removed]",
      "text/plain": [
       "<Figure size 1000x600 with 1 Axes>"
      ]
     },
     "metadata": {},
     "output_type": "display_data"
    }
   ],
   "source": [
    "analyse_statistique_et_asymetire(df_louer,'area')"
   ]
  },
  {
   "cell_type": "code",
   "execution_count": 96,
   "metadata": {},
   "outputs": [
    {
     "name": "stdout",
     "output_type": "stream",
     "text": [
      "statistiques descriptive pour la colone chamber est\n",
      "2.6\n",
      "1.0\n",
      "2.302172886644268\n",
      "la difference absolue entre la moyenne et la median : 1.6\n",
      "distribution potentiellement asymetrique (différence significative)\n"
     ]
    },
    {
     "data": {
      "image/png": "[encoded data removed]",
      "text/plain": [
       "<Figure size 1000x600 with 1 Axes>"
      ]
     },
     "metadata": {},
     "output_type": "display_data"
    }
   ],
   "source": [
    "analyse_statistique_et_asymetire(df_louer,'chamber')"
   ]
  },
  {
   "cell_type": "code",
   "execution_count": 97,
   "metadata": {},
   "outputs": [
    {
     "name": "stdout",
     "output_type": "stream",
     "text": [
      "statistiques descriptive pour la colone salon est\n",
      "1.2269736842105263\n",
      "1.0\n",
      "0.4643701713836386\n",
      "la difference absolue entre la moyenne et la median : 0.22697368421052633\n",
      "distribution probablement symetrique (difference faible)\n"
     ]
    },
    {
     "data": {
      "image/png": "[encoded data removed]",
      "text/plain": [
       "<Figure size 1000x600 with 1 Axes>"
      ]
     },
     "metadata": {},
     "output_type": "display_data"
    }
   ],
   "source": [
    "analyse_statistique_et_asymetire(df_louer,'salon')"
   ]
  },
  {
   "cell_type": "code",
   "execution_count": 98,
   "metadata": {},
   "outputs": [
    {
     "name": "stdout",
     "output_type": "stream",
     "text": [
      "statistiques descriptive pour la colone new_price est\n",
      "35010.18456375839\n",
      "2375.0\n",
      "287379.15337062924\n",
      "la difference absolue entre la moyenne et la median : 32635.18456375839\n",
      "distribution probablement symetrique (difference faible)\n"
     ]
    },
    {
     "data": {
      "image/png": "[encoded data removed]",
      "text/plain": [
       "<Figure size 1000x600 with 1 Axes>"
      ]
     },
     "metadata": {},
     "output_type": "display_data"
    }
   ],
   "source": [
    "analyse_statistique_et_asymetire(df_louer,'new_price')"
   ]
  },
  {
   "cell_type": "code",
   "execution_count": null,
   "metadata": {},
   "outputs": [],
   "source": []
  }
 ],
 "metadata": {
  "kernelspec": {
   "display_name": "base",
   "language": "python",
   "name": "python3"
  },
  "language_info": {
   "codemirror_mode": {
    "name": "ipython",
    "version": 3
   },
   "file_extension": ".py",
   "mimetype": "text/x-python",
   "name": "python",
   "nbconvert_exporter": "python",
   "pygments_lexer": "ipython3",
   "version": "3.12.7"
  }
 },
 "nbformat": 4,
 "nbformat_minor": 2
}
