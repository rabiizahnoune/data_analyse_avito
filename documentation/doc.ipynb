{
 "cells": [
  {
   "cell_type": "code",
   "execution_count": 1,
   "metadata": {},
   "outputs": [],
   "source": [
    "import pandas as pd"
   ]
  },
  {
   "cell_type": "code",
   "execution_count": 2,
   "metadata": {},
   "outputs": [],
   "source": [
    "data = {\n",
    "    \"Nom de la Colonne\": [\"title\", \"price\",\"location\", \"type_de_vente\", \"salon\", \"chamber\", \"toilete\",\"area\",\"link\"],\n",
    "    \"Description\": [\n",
    "        \"le titre de l annonce\",\n",
    "        \"prix\",\n",
    "        \"localisation de l appartement\",\n",
    "        \"louer ou vendre\",\n",
    "        \"nombre de salon\",\n",
    "        \"nombre de chamber\",\n",
    "        \"nombre de toilete\",\n",
    "        \"la surface de l appratement\",\n",
    "        \"le lien de l annonce\"\n",
    "    ],\n",
    "    \"Type de Données\": [\"object\", \"object\", \"object\", \"object\", \"float64\", \"float64\",\"float64\",\"float64\",\"object\"],\n",
    "    \"Exemple(s) de Valeurs\": [\"appartement à louer à Temara\", \"300 DH\", \"Meknès\", \"Appartements, à vendre\", \"2\", \"4\",\"1\",\"400\",\"https://www.avito.ma/vi/55593495.htm\"],\n",
    "    \"Valeurs Uniques / Catégories\": [\"NaN\", \"NaN\", \"NaN\", \"NaN\", \"NaN\", \"NaN\", \"NaN\",\"NaN\",\"NaN\",]\n",
    "}\n",
    "\n",
    "\n",
    "catalogue_df = pd.DataFrame(data)\n",
    "\n",
    "\n"
   ]
  },
  {
   "cell_type": "code",
   "execution_count": 3,
   "metadata": {},
   "outputs": [
    {
     "data": {
      "text/html": [
       "<div>\n",
       "<style scoped>\n",
       "    .dataframe tbody tr th:only-of-type {\n",
       "        vertical-align: middle;\n",
       "    }\n",
       "\n",
       "    .dataframe tbody tr th {\n",
       "        vertical-align: top;\n",
       "    }\n",
       "\n",
       "    .dataframe thead th {\n",
       "        text-align: right;\n",
       "    }\n",
       "</style>\n",
       "<table border=\"1\" class=\"dataframe\">\n",
       "  <thead>\n",
       "    <tr style=\"text-align: right;\">\n",
       "      <th></th>\n",
       "      <th>Nom de la Colonne</th>\n",
       "      <th>Description</th>\n",
       "      <th>Type de Données</th>\n",
       "      <th>Exemple(s) de Valeurs</th>\n",
       "      <th>Valeurs Uniques / Catégories</th>\n",
       "    </tr>\n",
       "  </thead>\n",
       "  <tbody>\n",
       "    <tr>\n",
       "      <th>0</th>\n",
       "      <td>title</td>\n",
       "      <td>le titre de l annonce</td>\n",
       "      <td>object</td>\n",
       "      <td>appartement à louer à Temara</td>\n",
       "      <td>NaN</td>\n",
       "    </tr>\n",
       "    <tr>\n",
       "      <th>1</th>\n",
       "      <td>price</td>\n",
       "      <td>prix</td>\n",
       "      <td>object</td>\n",
       "      <td>300 DH</td>\n",
       "      <td>NaN</td>\n",
       "    </tr>\n",
       "    <tr>\n",
       "      <th>2</th>\n",
       "      <td>location</td>\n",
       "      <td>localisation de l appartement</td>\n",
       "      <td>object</td>\n",
       "      <td>Meknès</td>\n",
       "      <td>NaN</td>\n",
       "    </tr>\n",
       "    <tr>\n",
       "      <th>3</th>\n",
       "      <td>type_de_vente</td>\n",
       "      <td>louer ou vendre</td>\n",
       "      <td>object</td>\n",
       "      <td>Appartements, à vendre</td>\n",
       "      <td>NaN</td>\n",
       "    </tr>\n",
       "    <tr>\n",
       "      <th>4</th>\n",
       "      <td>salon</td>\n",
       "      <td>nombre de salon</td>\n",
       "      <td>float64</td>\n",
       "      <td>2</td>\n",
       "      <td>NaN</td>\n",
       "    </tr>\n",
       "    <tr>\n",
       "      <th>5</th>\n",
       "      <td>chamber</td>\n",
       "      <td>nombre de chamber</td>\n",
       "      <td>float64</td>\n",
       "      <td>4</td>\n",
       "      <td>NaN</td>\n",
       "    </tr>\n",
       "    <tr>\n",
       "      <th>6</th>\n",
       "      <td>toilete</td>\n",
       "      <td>nombre de toilete</td>\n",
       "      <td>float64</td>\n",
       "      <td>1</td>\n",
       "      <td>NaN</td>\n",
       "    </tr>\n",
       "    <tr>\n",
       "      <th>7</th>\n",
       "      <td>area</td>\n",
       "      <td>la surface de l appratement</td>\n",
       "      <td>float64</td>\n",
       "      <td>400</td>\n",
       "      <td>NaN</td>\n",
       "    </tr>\n",
       "    <tr>\n",
       "      <th>8</th>\n",
       "      <td>link</td>\n",
       "      <td>le lien de l annonce</td>\n",
       "      <td>object</td>\n",
       "      <td>https://www.avito.ma/vi/55593495.htm</td>\n",
       "      <td>NaN</td>\n",
       "    </tr>\n",
       "  </tbody>\n",
       "</table>\n",
       "</div>"
      ],
      "text/plain": [
       "  Nom de la Colonne                    Description Type de Données  \\\n",
       "0             title          le titre de l annonce          object   \n",
       "1             price                           prix          object   \n",
       "2          location  localisation de l appartement          object   \n",
       "3     type_de_vente                louer ou vendre          object   \n",
       "4             salon                nombre de salon         float64   \n",
       "5           chamber              nombre de chamber         float64   \n",
       "6           toilete              nombre de toilete         float64   \n",
       "7              area    la surface de l appratement         float64   \n",
       "8              link           le lien de l annonce          object   \n",
       "\n",
       "                  Exemple(s) de Valeurs Valeurs Uniques / Catégories  \n",
       "0          appartement à louer à Temara                          NaN  \n",
       "1                                300 DH                          NaN  \n",
       "2                                Meknès                          NaN  \n",
       "3                Appartements, à vendre                          NaN  \n",
       "4                                     2                          NaN  \n",
       "5                                     4                          NaN  \n",
       "6                                     1                          NaN  \n",
       "7                                   400                          NaN  \n",
       "8  https://www.avito.ma/vi/55593495.htm                          NaN  "
      ]
     },
     "execution_count": 3,
     "metadata": {},
     "output_type": "execute_result"
    }
   ],
   "source": [
    "catalogue_df"
   ]
  },
  {
   "cell_type": "code",
   "execution_count": null,
   "metadata": {},
   "outputs": [
    {
     "name": "stdout",
     "output_type": "stream",
     "text": [
      "Le catalogue de données a été sauvegardé dans le fichier 'catalogue_donnees.csv'.\n"
     ]
    }
   ],
   "source": [
    "catalogue_df.to_csv(\"catalogue_donnees.csv\", index=False)\n",
    "\n",
    "print(\"Le catalogue de données a été sauvegardé dans le fichier 'catalogue_donnees.csv'.\")"
   ]
  },
  {
   "cell_type": "code",
   "execution_count": null,
   "metadata": {},
   "outputs": [],
   "source": []
  }
 ],
 "metadata": {
  "kernelspec": {
   "display_name": "base",
   "language": "python",
   "name": "python3"
  },
  "language_info": {
   "codemirror_mode": {
    "name": "ipython",
    "version": 3
   },
   "file_extension": ".py",
   "mimetype": "text/x-python",
   "name": "python",
   "nbconvert_exporter": "python",
   "pygments_lexer": "ipython3",
   "version": "3.12.7"
  }
 },
 "nbformat": 4,
 "nbformat_minor": 2
}
